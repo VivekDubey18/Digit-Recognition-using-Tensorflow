{
  "nbformat": 4,
  "nbformat_minor": 0,
  "metadata": {
    "colab": {
      "provenance": [],
      "gpuType": "T4",
      "authorship_tag": "ABX9TyN5XLdvhRkmsKBh/pS+mN46",
      "include_colab_link": true
    },
    "kernelspec": {
      "name": "python3",
      "display_name": "Python 3"
    },
    "language_info": {
      "name": "python"
    },
    "accelerator": "GPU"
  },
  "cells": [
    {
      "cell_type": "markdown",
      "metadata": {
        "id": "view-in-github",
        "colab_type": "text"
      },
      "source": [
        "<a href=\"https://colab.research.google.com/github/VivekDubey18/Digit-Recognition-using-Tensorflow/blob/main/Digit_Recognition_using_Tensorflow.ipynb\" target=\"_parent\"><img src=\"https://colab.research.google.com/assets/colab-badge.svg\" alt=\"Open In Colab\"/></a>"
      ]
    },
    {
      "cell_type": "code",
      "execution_count": 1,
      "metadata": {
        "id": "b-JegGl7TXAC",
        "colab": {
          "base_uri": "https://localhost:8080/"
        },
        "outputId": "dc37c88d-6606-4cca-d51a-55f88ec2966a"
      },
      "outputs": [
        {
          "output_type": "stream",
          "name": "stdout",
          "text": [
            "Downloading data from https://storage.googleapis.com/tensorflow/tf-keras-datasets/mnist.npz\n",
            "\u001b[1m11490434/11490434\u001b[0m \u001b[32m━━━━━━━━━━━━━━━━━━━━\u001b[0m\u001b[37m\u001b[0m \u001b[1m0s\u001b[0m 0us/step\n"
          ]
        }
      ],
      "source": [
        "# TensorFlow/Keras version\n",
        "import tensorflow as tf                                                           # Imports the TensorFlow library.\n",
        "from tensorflow.keras.datasets import mnist                                       # Imports the mnist dataset loader\n",
        "from tensorflow.keras.models import Sequential                                    # To import the model\n",
        "from tensorflow.keras.layers import Conv2D, MaxPooling2D, Flatten, Dense, Dropout # Imports different layer types you will use in your CNN:\n",
        "from tensorflow.keras.utils import to_categorical                                 # Imports the utility function to_categorical.\n",
        "from tensorflow.keras.callbacks import ModelCheckpoint, EarlyStopping             #for callbacks\n",
        "import matplotlib.pyplot as plt                                                   #for accuracy graph\n",
        "\n",
        "# Load the MNIST dataset\n",
        "(x_train, y_train), (x_test, y_test) = mnist.load_data()\n",
        "\n",
        "\n",
        "\n",
        "# Normalize input images i.e range is converted [0-255] --> [0-1] to improve performance and stability\n",
        "x_train = x_train / 255.0\n",
        "x_test = x_test / 255.0\n",
        "\n",
        "\n",
        "#Converts the integer labels e.g. 3-> into  --> one-hot vectors  [0, 0, 0, 1, 0, 0, 0, 0, 0, 0]) to work efficiently with categorical_crossentropy\n",
        "y_train = to_categorical(y_train, 10)\n",
        "y_test = to_categorical(y_test, 10)\n"
      ]
    },
    {
      "cell_type": "code",
      "source": [
        "# Build the CNN model\n",
        "model = Sequential([\n",
        "    Conv2D(32, (3, 3), activation='relu', input_shape=(28, 28, 1)),   # Conv Layer 1  (1st layer after input layer)\n",
        "    MaxPooling2D(pool_size=(2, 2)),                                   # Max Pooling\n",
        "    Conv2D(64, (3, 3), activation='relu'),                            # Conv Layer 2\n",
        "    MaxPooling2D(pool_size=(2, 2)),                                   # Max Pooling\n",
        "    Flatten(),                                                        # Flatten to 1D\n",
        "    Dense(128, activation='relu'),                                    # Fully connected layer  (total dense layer = 1 that contain 128 neurons)\n",
        "    Dropout(0.5),                                                     # Dropout for regularization\n",
        "    Dense(10, activation='softmax')                                   # Output Layer (10 nerons for 10 classes 0-9)\n",
        "])\n"
      ],
      "metadata": {
        "id": "aEZs45ssTYI9",
        "colab": {
          "base_uri": "https://localhost:8080/"
        },
        "outputId": "50a37bd4-677c-44b9-ddf8-ab261a27efa3"
      },
      "execution_count": 2,
      "outputs": [
        {
          "output_type": "stream",
          "name": "stderr",
          "text": [
            "/usr/local/lib/python3.11/dist-packages/keras/src/layers/convolutional/base_conv.py:113: UserWarning: Do not pass an `input_shape`/`input_dim` argument to a layer. When using Sequential models, prefer using an `Input(shape)` object as the first layer in the model instead.\n",
            "  super().__init__(activity_regularizer=activity_regularizer, **kwargs)\n"
          ]
        }
      ]
    },
    {
      "cell_type": "code",
      "source": [
        "# Compile the model\n",
        "model.compile(optimizer='adam',\n",
        "              loss='categorical_crossentropy',       # to calculate loss function\n",
        "              metrics=['accuracy'])                  # to calculate accuracy\n",
        "\n",
        "\n",
        "\n",
        "#Define callbacks\n",
        "#it saves the best performing model ignoring the model where accuracy decreases\n",
        "checkpoint = ModelCheckpoint(\n",
        "    'best_model.keras', monitor='val_accuracy', save_best_only=True,\n",
        "    mode='max', verbose=1                                             #max accuracy is best,verbose print the msg of saving\n",
        ")\n",
        "\n",
        "\n",
        "#to handle overfitting it monitor validation_accuracy ....ans if validation accuracy continues for 3 epochs it will terminate and saves the model where the best weights are present\n",
        "early_stop = EarlyStopping(\n",
        "    monitor='val_accuracy', patience=3, restore_best_weights=True, verbose=1\n",
        ")\n",
        "\n",
        "#Train the model with callbacks\n",
        "history = model.fit(\n",
        "    x_train, y_train,                         # Input training data\n",
        "    epochs=8,                                 # 8 times full passes to be made over the training data.\n",
        "    batch_size=32,                            # number of samples processed before updating the model’s weights.\n",
        "    validation_split=0.1,                     #Reserves 10% of the training data for validation\n",
        "    callbacks=[checkpoint, early_stop]        #for early stopping and saving best model\n",
        ")"
      ],
      "metadata": {
        "id": "nqNlWPuaXn0v",
        "colab": {
          "base_uri": "https://localhost:8080/"
        },
        "outputId": "21ec8076-a506-417d-e757-7955b9dcfcb6"
      },
      "execution_count": 3,
      "outputs": [
        {
          "output_type": "stream",
          "name": "stdout",
          "text": [
            "Epoch 1/8\n",
            "\u001b[1m1688/1688\u001b[0m \u001b[32m━━━━━━━━━━━━━━━━━━━━\u001b[0m\u001b[37m\u001b[0m \u001b[1m0s\u001b[0m 4ms/step - accuracy: 0.8602 - loss: 0.4446\n",
            "Epoch 1: val_accuracy improved from -inf to 0.98367, saving model to best_model.keras\n",
            "\u001b[1m1688/1688\u001b[0m \u001b[32m━━━━━━━━━━━━━━━━━━━━\u001b[0m\u001b[37m\u001b[0m \u001b[1m13s\u001b[0m 5ms/step - accuracy: 0.8602 - loss: 0.4444 - val_accuracy: 0.9837 - val_loss: 0.0533\n",
            "Epoch 2/8\n",
            "\u001b[1m1683/1688\u001b[0m \u001b[32m━━━━━━━━━━━━━━━━━━━\u001b[0m\u001b[37m━\u001b[0m \u001b[1m0s\u001b[0m 3ms/step - accuracy: 0.9748 - loss: 0.0855\n",
            "Epoch 2: val_accuracy improved from 0.98367 to 0.99033, saving model to best_model.keras\n",
            "\u001b[1m1688/1688\u001b[0m \u001b[32m━━━━━━━━━━━━━━━━━━━━\u001b[0m\u001b[37m\u001b[0m \u001b[1m14s\u001b[0m 3ms/step - accuracy: 0.9748 - loss: 0.0855 - val_accuracy: 0.9903 - val_loss: 0.0403\n",
            "Epoch 3/8\n",
            "\u001b[1m1688/1688\u001b[0m \u001b[32m━━━━━━━━━━━━━━━━━━━━\u001b[0m\u001b[37m\u001b[0m \u001b[1m0s\u001b[0m 3ms/step - accuracy: 0.9832 - loss: 0.0570\n",
            "Epoch 3: val_accuracy did not improve from 0.99033\n",
            "\u001b[1m1688/1688\u001b[0m \u001b[32m━━━━━━━━━━━━━━━━━━━━\u001b[0m\u001b[37m\u001b[0m \u001b[1m6s\u001b[0m 4ms/step - accuracy: 0.9832 - loss: 0.0570 - val_accuracy: 0.9892 - val_loss: 0.0364\n",
            "Epoch 4/8\n",
            "\u001b[1m1680/1688\u001b[0m \u001b[32m━━━━━━━━━━━━━━━━━━━\u001b[0m\u001b[37m━\u001b[0m \u001b[1m0s\u001b[0m 3ms/step - accuracy: 0.9872 - loss: 0.0444\n",
            "Epoch 4: val_accuracy improved from 0.99033 to 0.99117, saving model to best_model.keras\n",
            "\u001b[1m1688/1688\u001b[0m \u001b[32m━━━━━━━━━━━━━━━━━━━━\u001b[0m\u001b[37m\u001b[0m \u001b[1m10s\u001b[0m 3ms/step - accuracy: 0.9872 - loss: 0.0444 - val_accuracy: 0.9912 - val_loss: 0.0322\n",
            "Epoch 5/8\n",
            "\u001b[1m1679/1688\u001b[0m \u001b[32m━━━━━━━━━━━━━━━━━━━\u001b[0m\u001b[37m━\u001b[0m \u001b[1m0s\u001b[0m 3ms/step - accuracy: 0.9879 - loss: 0.0393\n",
            "Epoch 5: val_accuracy improved from 0.99117 to 0.99167, saving model to best_model.keras\n",
            "\u001b[1m1688/1688\u001b[0m \u001b[32m━━━━━━━━━━━━━━━━━━━━\u001b[0m\u001b[37m\u001b[0m \u001b[1m10s\u001b[0m 3ms/step - accuracy: 0.9879 - loss: 0.0393 - val_accuracy: 0.9917 - val_loss: 0.0303\n",
            "Epoch 6/8\n",
            "\u001b[1m1677/1688\u001b[0m \u001b[32m━━━━━━━━━━━━━━━━━━━\u001b[0m\u001b[37m━\u001b[0m \u001b[1m0s\u001b[0m 3ms/step - accuracy: 0.9907 - loss: 0.0313\n",
            "Epoch 6: val_accuracy did not improve from 0.99167\n",
            "\u001b[1m1688/1688\u001b[0m \u001b[32m━━━━━━━━━━━━━━━━━━━━\u001b[0m\u001b[37m\u001b[0m \u001b[1m6s\u001b[0m 3ms/step - accuracy: 0.9907 - loss: 0.0313 - val_accuracy: 0.9907 - val_loss: 0.0337\n",
            "Epoch 7/8\n",
            "\u001b[1m1685/1688\u001b[0m \u001b[32m━━━━━━━━━━━━━━━━━━━\u001b[0m\u001b[37m━\u001b[0m \u001b[1m0s\u001b[0m 3ms/step - accuracy: 0.9910 - loss: 0.0288\n",
            "Epoch 7: val_accuracy did not improve from 0.99167\n",
            "\u001b[1m1688/1688\u001b[0m \u001b[32m━━━━━━━━━━━━━━━━━━━━\u001b[0m\u001b[37m\u001b[0m \u001b[1m5s\u001b[0m 3ms/step - accuracy: 0.9910 - loss: 0.0288 - val_accuracy: 0.9902 - val_loss: 0.0375\n",
            "Epoch 8/8\n",
            "\u001b[1m1685/1688\u001b[0m \u001b[32m━━━━━━━━━━━━━━━━━━━\u001b[0m\u001b[37m━\u001b[0m \u001b[1m0s\u001b[0m 3ms/step - accuracy: 0.9928 - loss: 0.0229\n",
            "Epoch 8: val_accuracy improved from 0.99167 to 0.99217, saving model to best_model.keras\n",
            "\u001b[1m1688/1688\u001b[0m \u001b[32m━━━━━━━━━━━━━━━━━━━━\u001b[0m\u001b[37m\u001b[0m \u001b[1m6s\u001b[0m 4ms/step - accuracy: 0.9928 - loss: 0.0229 - val_accuracy: 0.9922 - val_loss: 0.0328\n",
            "Restoring model weights from the end of the best epoch: 8.\n"
          ]
        }
      ]
    },
    {
      "cell_type": "code",
      "source": [
        "#Plot training & validation accuracy\n",
        "plt.plot(history.history['accuracy'], label='Train Accuracy')             # Plot training accuracy\n",
        "plt.plot(history.history['val_accuracy'], label='Validation Accuracy')    # plot validation accuracy\n",
        "plt.xlabel('Epoch')                                                       # x axis-->  Epoch\n",
        "plt.ylabel('Accuracy')                                                    # y axis--> Accuracy\n",
        "plt.legend()                                                              #display the box to distinguish between the Train Accuracy and Validation Accuracy lines.\n",
        "plt.show()\n",
        "\n",
        "\n",
        "# Evaluate the model\n",
        "test_loss, test_acc = model.evaluate(x_test, y_test)\n",
        "print(f\"Test accuracy : {test_acc:.4f}\")"
      ],
      "metadata": {
        "colab": {
          "base_uri": "https://localhost:8080/",
          "height": 484
        },
        "id": "O-CagXcKeHBV",
        "outputId": "a18c5a8e-2f43-4827-d93c-44050e21d60b"
      },
      "execution_count": 4,
      "outputs": [
        {
          "output_type": "display_data",
          "data": {
            "text/plain": [
              "<Figure size 640x480 with 1 Axes>"
            ],
            "image/png": "[encoded data removed]"
          },
          "metadata": {}
        },
        {
          "output_type": "stream",
          "name": "stdout",
          "text": [
            "\u001b[1m313/313\u001b[0m \u001b[32m━━━━━━━━━━━━━━━━━━━━\u001b[0m\u001b[37m\u001b[0m \u001b[1m1s\u001b[0m 2ms/step - accuracy: 0.9888 - loss: 0.0352\n",
            "Test accuracy : 0.9910\n"
          ]
        }
      ]
    },
    {
      "cell_type": "code",
      "source": [],
      "metadata": {
        "id": "YfIT6mYD3pbp"
      },
      "execution_count": 4,
      "outputs": []
    }
  ]
}