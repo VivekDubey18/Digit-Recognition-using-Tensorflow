{
  "nbformat": 4,
  "nbformat_minor": 0,
  "metadata": {
    "colab": {
      "provenance": [],
      "gpuType": "T4",
      "authorship_tag": "ABX9TyM34xtmAAToZDZ7fMnfObeY",
      "include_colab_link": true
    },
    "kernelspec": {
      "name": "python3",
      "display_name": "Python 3"
    },
    "language_info": {
      "name": "python"
    },
    "accelerator": "GPU"
  },
  "cells": [
    {
      "cell_type": "markdown",
      "metadata": {
        "id": "view-in-github",
        "colab_type": "text"
      },
      "source": [
        "<a href=\"https://colab.research.google.com/github/VivekDubey18/Digit_Recognizing_using_Tensorflow/blob/main/Digit_Recognizing.ipynb\" target=\"_parent\"><img src=\"https://colab.research.google.com/assets/colab-badge.svg\" alt=\"Open In Colab\"/></a>"
      ]
    },
    {
      "cell_type": "code",
      "execution_count": 2,
      "metadata": {
        "id": "b-JegGl7TXAC"
      },
      "outputs": [],
      "source": [
        "# TensorFlow/Keras version\n",
        "import tensorflow as tf                                                           # Imports the TensorFlow library.\n",
        "from tensorflow.keras.datasets import mnist                                       # Imports the mnist dataset loader\n",
        "from tensorflow.keras.models import Sequential                                    # To import the model\n",
        "from tensorflow.keras.layers import Conv2D, MaxPooling2D, Flatten, Dense, Dropout # Imports different layer types you will use in your CNN:\n",
        "from tensorflow.keras.utils import to_categorical                                 # Imports the utility function to_categorical.\n",
        "from tensorflow.keras.callbacks import ModelCheckpoint, EarlyStopping             #for callbacks\n",
        "import matplotlib.pyplot as plt                                                   #for accuracy graph\n",
        "\n",
        "# Load the MNIST dataset\n",
        "(x_train, y_train), (x_test, y_test) = mnist.load_data()\n",
        "\n",
        "\n",
        "\n",
        "# Normalize input images i.e range is converted [0-255] --> [0-1] to improve performance and stability\n",
        "x_train = x_train / 255.0\n",
        "x_test = x_test / 255.0\n",
        "\n",
        "\n",
        "#Converts the integer labels e.g. 3-> into  --> one-hot vectors  [0, 0, 0, 1, 0, 0, 0, 0, 0, 0]) to work efficiently with categorical_crossentropy\n",
        "y_train = to_categorical(y_train, 10)\n",
        "y_test = to_categorical(y_test, 10)\n"
      ]
    },
    {
      "cell_type": "code",
      "source": [
        "# Build the CNN model\n",
        "model = Sequential([\n",
        "    Conv2D(32, (3, 3), activation='relu', input_shape=(28, 28, 1)),   # Conv Layer 1  (1st layer after input layer)\n",
        "    MaxPooling2D(pool_size=(2, 2)),                                   # Max Pooling\n",
        "    Conv2D(64, (3, 3), activation='relu'),                            # Conv Layer 2\n",
        "    MaxPooling2D(pool_size=(2, 2)),                                   # Max Pooling\n",
        "    Flatten(),                                                        # Flatten to 1D\n",
        "    Dense(128, activation='relu'),                                    # Fully connected layer  (total dense layer = 1 that contain 128 neurons)\n",
        "    Dropout(0.5),                                                     # Dropout for regularization\n",
        "    Dense(10, activation='softmax')                                   # Output Layer (10 nerons for 10 classes 0-9)\n",
        "])\n"
      ],
      "metadata": {
        "id": "aEZs45ssTYI9",
        "colab": {
          "base_uri": "https://localhost:8080/"
        },
        "outputId": "59bdec10-d37d-497c-c7ab-599f1d5580ae"
      },
      "execution_count": 3,
      "outputs": [
        {
          "output_type": "stream",
          "name": "stderr",
          "text": [
            "/usr/local/lib/python3.11/dist-packages/keras/src/layers/convolutional/base_conv.py:113: UserWarning: Do not pass an `input_shape`/`input_dim` argument to a layer. When using Sequential models, prefer using an `Input(shape)` object as the first layer in the model instead.\n",
            "  super().__init__(activity_regularizer=activity_regularizer, **kwargs)\n"
          ]
        }
      ]
    },
    {
      "cell_type": "code",
      "source": [
        "# Compile the model\n",
        "model.compile(optimizer='adam',\n",
        "              loss='categorical_crossentropy',       # to calculate loss function\n",
        "              metrics=['accuracy'])                  # to calculate accuracy\n",
        "\n",
        "\n",
        "\n",
        "#Define callbacks\n",
        "#it saves the best performing model ignoring the model where accuracy decreases\n",
        "checkpoint = ModelCheckpoint(\n",
        "    'best_model.keras', monitor='val_accuracy', save_best_only=True,\n",
        "    mode='max', verbose=1                                             #max accuracy is best,verbose print the msg of saving\n",
        ")\n",
        "\n",
        "\n",
        "#to handle overfitting it monitor validation_loss ....ans if validation loss continues for 3 epochs it will terminate and saves the model where the best weights are present\n",
        "early_stop = EarlyStopping(\n",
        "    monitor='val_loss', patience=3, restore_best_weights=True, verbose=1\n",
        ")\n",
        "\n",
        "#Train the model with callbacks\n",
        "history = model.fit(\n",
        "    x_train, y_train,                         # Input training data\n",
        "    epochs=8,                                 # 8 times full passes to be made over the training data.\n",
        "    batch_size=32,                            # number of samples processed before updating the model’s weights.\n",
        "    validation_split=0.1,                     #Reserves 10% of the training data for validation\n",
        "    callbacks=[checkpoint, early_stop]        #for early stopping and saving best model\n",
        ")"
      ],
      "metadata": {
        "id": "nqNlWPuaXn0v",
        "colab": {
          "base_uri": "https://localhost:8080/"
        },
        "outputId": "c191f673-d9d8-4a71-f03e-d5ec14e8848c"
      },
      "execution_count": 4,
      "outputs": [
        {
          "output_type": "stream",
          "name": "stdout",
          "text": [
            "Epoch 1/8\n",
            "\u001b[1m1688/1688\u001b[0m \u001b[32m━━━━━━━━━━━━━━━━━━━━\u001b[0m\u001b[37m\u001b[0m \u001b[1m0s\u001b[0m 4ms/step - accuracy: 0.8595 - loss: 0.4405\n",
            "Epoch 1: val_accuracy improved from -inf to 0.98600, saving model to best_model.keras\n",
            "\u001b[1m1688/1688\u001b[0m \u001b[32m━━━━━━━━━━━━━━━━━━━━\u001b[0m\u001b[37m\u001b[0m \u001b[1m14s\u001b[0m 5ms/step - accuracy: 0.8595 - loss: 0.4404 - val_accuracy: 0.9860 - val_loss: 0.0452\n",
            "Epoch 2/8\n",
            "\u001b[1m1686/1688\u001b[0m \u001b[32m━━━━━━━━━━━━━━━━━━━\u001b[0m\u001b[37m━\u001b[0m \u001b[1m0s\u001b[0m 3ms/step - accuracy: 0.9748 - loss: 0.0843\n",
            "Epoch 2: val_accuracy improved from 0.98600 to 0.98800, saving model to best_model.keras\n",
            "\u001b[1m1688/1688\u001b[0m \u001b[32m━━━━━━━━━━━━━━━━━━━━\u001b[0m\u001b[37m\u001b[0m \u001b[1m14s\u001b[0m 4ms/step - accuracy: 0.9748 - loss: 0.0843 - val_accuracy: 0.9880 - val_loss: 0.0447\n",
            "Epoch 3/8\n",
            "\u001b[1m1679/1688\u001b[0m \u001b[32m━━━━━━━━━━━━━━━━━━━\u001b[0m\u001b[37m━\u001b[0m \u001b[1m0s\u001b[0m 3ms/step - accuracy: 0.9827 - loss: 0.0595\n",
            "Epoch 3: val_accuracy improved from 0.98800 to 0.99050, saving model to best_model.keras\n",
            "\u001b[1m1688/1688\u001b[0m \u001b[32m━━━━━━━━━━━━━━━━━━━━\u001b[0m\u001b[37m\u001b[0m \u001b[1m10s\u001b[0m 4ms/step - accuracy: 0.9827 - loss: 0.0595 - val_accuracy: 0.9905 - val_loss: 0.0357\n",
            "Epoch 4/8\n",
            "\u001b[1m1677/1688\u001b[0m \u001b[32m━━━━━━━━━━━━━━━━━━━\u001b[0m\u001b[37m━\u001b[0m \u001b[1m0s\u001b[0m 3ms/step - accuracy: 0.9863 - loss: 0.0460\n",
            "Epoch 4: val_accuracy improved from 0.99050 to 0.99133, saving model to best_model.keras\n",
            "\u001b[1m1688/1688\u001b[0m \u001b[32m━━━━━━━━━━━━━━━━━━━━\u001b[0m\u001b[37m\u001b[0m \u001b[1m10s\u001b[0m 3ms/step - accuracy: 0.9863 - loss: 0.0460 - val_accuracy: 0.9913 - val_loss: 0.0333\n",
            "Epoch 5/8\n",
            "\u001b[1m1686/1688\u001b[0m \u001b[32m━━━━━━━━━━━━━━━━━━━\u001b[0m\u001b[37m━\u001b[0m \u001b[1m0s\u001b[0m 3ms/step - accuracy: 0.9881 - loss: 0.0383\n",
            "Epoch 5: val_accuracy did not improve from 0.99133\n",
            "\u001b[1m1688/1688\u001b[0m \u001b[32m━━━━━━━━━━━━━━━━━━━━\u001b[0m\u001b[37m\u001b[0m \u001b[1m6s\u001b[0m 4ms/step - accuracy: 0.9881 - loss: 0.0383 - val_accuracy: 0.9913 - val_loss: 0.0321\n",
            "Epoch 6/8\n",
            "\u001b[1m1676/1688\u001b[0m \u001b[32m━━━━━━━━━━━━━━━━━━━\u001b[0m\u001b[37m━\u001b[0m \u001b[1m0s\u001b[0m 3ms/step - accuracy: 0.9902 - loss: 0.0328\n",
            "Epoch 6: val_accuracy improved from 0.99133 to 0.99283, saving model to best_model.keras\n",
            "\u001b[1m1688/1688\u001b[0m \u001b[32m━━━━━━━━━━━━━━━━━━━━\u001b[0m\u001b[37m\u001b[0m \u001b[1m10s\u001b[0m 3ms/step - accuracy: 0.9902 - loss: 0.0328 - val_accuracy: 0.9928 - val_loss: 0.0313\n",
            "Epoch 7/8\n",
            "\u001b[1m1677/1688\u001b[0m \u001b[32m━━━━━━━━━━━━━━━━━━━\u001b[0m\u001b[37m━\u001b[0m \u001b[1m0s\u001b[0m 3ms/step - accuracy: 0.9913 - loss: 0.0280\n",
            "Epoch 7: val_accuracy did not improve from 0.99283\n",
            "\u001b[1m1688/1688\u001b[0m \u001b[32m━━━━━━━━━━━━━━━━━━━━\u001b[0m\u001b[37m\u001b[0m \u001b[1m5s\u001b[0m 3ms/step - accuracy: 0.9913 - loss: 0.0281 - val_accuracy: 0.9925 - val_loss: 0.0308\n",
            "Epoch 8/8\n",
            "\u001b[1m1678/1688\u001b[0m \u001b[32m━━━━━━━━━━━━━━━━━━━\u001b[0m\u001b[37m━\u001b[0m \u001b[1m0s\u001b[0m 3ms/step - accuracy: 0.9933 - loss: 0.0213\n",
            "Epoch 8: val_accuracy did not improve from 0.99283\n",
            "\u001b[1m1688/1688\u001b[0m \u001b[32m━━━━━━━━━━━━━━━━━━━━\u001b[0m\u001b[37m\u001b[0m \u001b[1m10s\u001b[0m 3ms/step - accuracy: 0.9933 - loss: 0.0213 - val_accuracy: 0.9923 - val_loss: 0.0340\n",
            "Restoring model weights from the end of the best epoch: 7.\n"
          ]
        }
      ]
    },
    {
      "cell_type": "code",
      "source": [
        "#Plot training & validation accuracy\n",
        "plt.plot(history.history['accuracy'], label='Train Accuracy')             # Plot training accuracy\n",
        "plt.plot(history.history['val_accuracy'], label='Validation Accuracy')    # plot validation accuracy\n",
        "plt.xlabel('Epoch')                                                       # x axis-->  Epoch\n",
        "plt.ylabel('Accuracy')                                                    # y axis--> Accuracy\n",
        "plt.legend()                                                              #display the box to distinguish between the Train Accuracy and Validation Accuracy lines.\n",
        "plt.show()\n",
        "\n",
        "\n",
        "# Evaluate the model\n",
        "test_loss, test_acc = model.evaluate(x_test, y_test)\n",
        "print(f\"Test accuracy : {test_acc:.4f}\")"
      ],
      "metadata": {
        "colab": {
          "base_uri": "https://localhost:8080/",
          "height": 484
        },
        "id": "O-CagXcKeHBV",
        "outputId": "408e7ad1-1d7a-49b6-a299-dd64ed0998fc"
      },
      "execution_count": 5,
      "outputs": [
        {
          "output_type": "display_data",
          "data": {
            "text/plain": [
              "<Figure size 640x480 with 1 Axes>"
            ],
            "image/png": "[encoded data removed]"
          },
          "metadata": {}
        },
        {
          "output_type": "stream",
          "name": "stdout",
          "text": [
            "\u001b[1m313/313\u001b[0m \u001b[32m━━━━━━━━━━━━━━━━━━━━\u001b[0m\u001b[37m\u001b[0m \u001b[1m1s\u001b[0m 2ms/step - accuracy: 0.9881 - loss: 0.0364\n",
            "Test accuracy : 0.9911\n"
          ]
        }
      ]
    },
    {
      "cell_type": "code",
      "source": [],
      "metadata": {
        "id": "YfIT6mYD3pbp"
      },
      "execution_count": 5,
      "outputs": []
    }
  ]
}